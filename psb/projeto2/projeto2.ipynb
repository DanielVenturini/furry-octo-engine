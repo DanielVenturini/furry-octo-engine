{
 "cells": [
  {
   "cell_type": "markdown",
   "metadata": {},
   "source": [
    "# Projeto 2\n",
    "O projeto consiste na detecção e equalização do ritmo alpha. Na base de dados, o ritmo alpha representa sinais com amplitude na faixa de 20 a 200 V e frequência entre 8 e 12 Hz, sendo melhor detectado sobre a região occipital, aparecendo com maior intensidade em indivíduos em repouso e com os olhos fechados."
   ]
  },
  {
   "cell_type": "code",
   "execution_count": 4,
   "metadata": {},
   "outputs": [],
   "source": [
    "from mne.time_frequency import psd_welch as pw\n",
    "import matplotlib.pyplot as plt\n",
    "import pandas as pd\n",
    "import numpy as np\n",
    "import mne"
   ]
  },
  {
   "cell_type": "markdown",
   "metadata": {},
   "source": [
    "### Carregamento do arquivo `OpenBCI-RAW-2019-06-07_01-09-36.txt`"
   ]
  },
  {
   "cell_type": "code",
   "execution_count": 5,
   "metadata": {},
   "outputs": [],
   "source": [
    "def openData(name):\n",
    "    df = pd.read_csv(name, skiprows=6, names=['index', 'PO3', 'PO4', 'P8', 'O1', 'O2', 'P7', '7', '8', 'x', 'y', 'z', 'tempo'])\n",
    "    df = df.drop(['index','7', '8', 'x', 'y', 'z', 'tempo'], axis=1)\n",
    "    dataLen = len(df)\n",
    "    return dataLen, df.transpose()"
   ]
  },
  {
   "cell_type": "markdown",
   "metadata": {},
   "source": [
    "### Verificando os tempos da evocação do ritmo alpha (em ~10 Hz) com a ferramenta `OpenBCI GUI 4.0.3`."
   ]
  },
  {
   "cell_type": "markdown",
   "metadata": {},
   "source": [
    "A seguir, encontram-se os intervalos dos tempos nos quais foram observados, via `OpenBCI`, que o ritmo alpha se encontra elevado em comparação com os demais.\n",
    "\n",
    "098-101s&nbsp;&nbsp;&nbsp;&nbsp;128-130s&nbsp;&nbsp;&nbsp;&nbsp;135-137s&nbsp;&nbsp;&nbsp;&nbsp;142-148s&nbsp;&nbsp;&nbsp;&nbsp;152-158s  \n",
    "`163-170s`172-176s&nbsp;&nbsp;&nbsp;&nbsp;182-192s&nbsp;&nbsp;&nbsp;&nbsp;194-198s&nbsp;&nbsp;&nbsp;&nbsp;252-254s  \n",
    "263-265s&nbsp;&nbsp;&nbsp;&nbsp;271-278s&nbsp;&nbsp;&nbsp;&nbsp;286-291s&nbsp;&nbsp;&nbsp;&nbsp;292-297s&nbsp;&nbsp;&nbsp;&nbsp;299-301s  \n",
    "302-307s&nbsp;&nbsp;&nbsp;&nbsp;332-334s&nbsp;&nbsp;&nbsp;&nbsp;335-339s&nbsp;&nbsp;&nbsp;&nbsp;411-413s&nbsp;&nbsp;&nbsp;&nbsp;418-421s  \n",
    "428-432s&nbsp;&nbsp;&nbsp;&nbsp;442-445s&nbsp;&nbsp;&nbsp;&nbsp;446-450s&nbsp;&nbsp;&nbsp;&nbsp;460-462s&nbsp;&nbsp;&nbsp;&nbsp;465-467s  \n",
    "479-482s&nbsp;&nbsp;&nbsp;&nbsp;484-486s&nbsp;&nbsp;&nbsp;&nbsp;490-494s&nbsp;&nbsp;&nbsp;&nbsp;500-503s&nbsp;&nbsp;&nbsp;&nbsp;510-512s  "
   ]
  },
  {
   "cell_type": "markdown",
   "metadata": {},
   "source": [
    "### Após carregado o arquivo, este é transformado para o domínio do tempo."
   ]
  },
  {
   "cell_type": "code",
   "execution_count": 16,
   "metadata": {},
   "outputs": [],
   "source": [
    "def getRaw(df):\n",
    "    ch_types = ['eeg'] * 6\n",
    "    ch_names = ['PO3', 'PO4', 'P8', 'O1', 'O2', 'P7']\n",
    "    info = mne.create_info(ch_names= ch_names, sfreq=256 , ch_types=ch_types)\n",
    "    raw = mne.io.RawArray(df,info)\n",
    "    montage = mne.channels.read_montage('standard_1020')\n",
    "    raw.set_montage(montage)\n",
    "    return raw"
   ]
  },
  {
   "cell_type": "markdown",
   "metadata": {},
   "source": [
    "### Realizaando o conjunto de pré-processamento nos dados\n",
    "\n",
    "O pré-processamento foi dividido em dois passos para remoção de ruidos dos dados e faixa de frequências não relevantes para o estudo.\n",
    "- `Passo 1:` aplicar o filtro notch; e\n",
    "- `Passo 2:` aplicar o filtro passa faixa no intervalo de 5 a 50 três vezes."
   ]
  },
  {
   "cell_type": "code",
   "execution_count": 17,
   "metadata": {},
   "outputs": [],
   "source": [
    "def preprocessing(raw):\n",
    "    raw.notch_filter(np.arange(60, 121, 60), fir_design='firwin') #aplica filtro notch\n",
    "    raw.filter(5,50) #aplica filtro passa-faixa\n",
    "    raw.filter(5,50) #aplica filtro passa-faixa\n",
    "    raw.filter(5,50) #aplica filtro passa-faixa\n",
    "    return raw"
   ]
  },
  {
   "cell_type": "markdown",
   "metadata": {},
   "source": [
    "### Visualização dos Dados"
   ]
  },
  {
   "cell_type": "code",
   "execution_count": 22,
   "metadata": {},
   "outputs": [],
   "source": [
    "def plotGraphic(averageFrequency):\n",
    "    ASD = averageFrequency\n",
    "    y= ASD.keys()\n",
    "    x= ASD.values()\n",
    "    plt.bar(y, x)\n",
    "    plt.pause(1.00)\n",
    "    plt.clf()"
   ]
  },
  {
   "cell_type": "markdown",
   "metadata": {},
   "source": [
    "### Foi realizado a plotagem (no domínio da frequência) para os trechos de tempos verificados dos sinais carregados através do `OpenBCI`."
   ]
  },
  {
   "cell_type": "markdown",
   "metadata": {},
   "source": [
    "A imagem abaixo é um exemplo da saída e se refere ao tempo `165-170s` que foi encontrado através do `OpenBCI` e gerado através do nosso algoritmo.\n",
    "\n",
    "![Alfa](./diff_alfa.jpeg)"
   ]
  },
  {
   "cell_type": "markdown",
   "metadata": {},
   "source": [
    "### Executando\n",
    "\n",
    "Foi extraido os momentos corretos (frações de tempo) em que ocorre o ritmo alpha alevado frente aos demais sinais. Então, foi simulado a leitura do sinal na mesma frequência de amostragem que foi gravado (250 Hz), criando buffers de `n` segundos para a equalização do ritmo alpha em uma janela deslizante de tempo 1 segundo. Assim, foi gerado os valores do ritmo alpha em uma escala de 0 à 100, no qual o seu valor escalar é impresso na saída para cada deslizamento de tempo."
   ]
  },
  {
   "cell_type": "code",
   "execution_count": 18,
   "metadata": {},
   "outputs": [],
   "source": [
    "\n",
    "def work(raw, dataLen, bufferSize = 3):\n",
    "    frequency = {\n",
    "        'alpha'  : {},\n",
    "        'beta'  : {},\n",
    "        'gamma' : {},\n",
    "        'theta' : {}\n",
    "    }\n",
    "\n",
    "    interval = {\n",
    "        'alpha'  : {'init': 8, 'end': 12},\n",
    "        'gamma' : {'init': 25, 'end': 100},\n",
    "        'beta'  : {'init': 12, 'end': 30},\n",
    "        'theta' : {'init': 5, 'end': 7}\n",
    "    }\n",
    "\n",
    "    for i in range(0, int(dataLen/256)):\n",
    "        #realiza a janela de deslocamento (1 seg)\n",
    "        psds, freqs = pw(raw,fmin=5,fmax=50,tmin=i,tmax=i+bufferSize)\n",
    "\n",
    "        #recebe a maior média(dos 6 eletrodos) de cada frequencia em seu intervalo\n",
    "        for canal in frequency.keys():\n",
    "            frequency[canal] = max(np.mean(psds[:,interval[canal]['init']:interval[canal]['end']],axis=1))\n",
    "            \n",
    "        #verifica se a media do alpha é o maior\n",
    "        if(frequency['alpha'] == max(frequency.values())):\n",
    "            plotGraphic(frequency)        \n",
    "            #hordena a medias\n",
    "            values = sorted(list(frequency.values()) , reverse = True)\n",
    "            #retorna a diferença do alpha sobre o segundo maior em escala de (0..100)\n",
    "            poweralpha = 100*(values[0] - values[1])/frequency['alpha']\n",
    "            print(poweralpha)"
   ]
  },
  {
   "cell_type": "markdown",
   "metadata": {},
   "source": [
    "## Execução"
   ]
  },
  {
   "cell_type": "code",
   "execution_count": 23,
   "metadata": {},
   "outputs": [
    {
     "name": "stdout",
     "output_type": "stream",
     "text": [
      "Setting up band-stop filter\n",
      "Filter length of 1691 samples (6.605 sec) selected\n",
      "Setting up band-pass filter from 5 - 50 Hz\n",
      "l_trans_bandwidth chosen to be 2.0 Hz\n",
      "h_trans_bandwidth chosen to be 12.5 Hz\n",
      "Filter length of 423 samples (1.652 sec) selected\n",
      "Setting up band-pass filter from 5 - 50 Hz\n",
      "l_trans_bandwidth chosen to be 2.0 Hz\n",
      "h_trans_bandwidth chosen to be 12.5 Hz\n",
      "Filter length of 423 samples (1.652 sec) selected\n",
      "Setting up band-pass filter from 5 - 50 Hz\n",
      "l_trans_bandwidth chosen to be 2.0 Hz\n",
      "h_trans_bandwidth chosen to be 12.5 Hz\n",
      "Filter length of 423 samples (1.652 sec) selected\n"
     ]
    }
   ],
   "source": [
    "dataLen, df = openData(\"entrada.csv\")\n",
    "raw = preprocessing(getRaw(df))\n",
    "work(raw, dataLen, bufferSize = 5)"
   ]
  }
 ],
 "metadata": {
  "kernelspec": {
   "display_name": "Python 3",
   "language": "python",
   "name": "python3"
  },
  "language_info": {
   "codemirror_mode": {
    "name": "ipython",
    "version": 3
   },
   "file_extension": ".py",
   "mimetype": "text/x-python",
   "name": "python",
   "nbconvert_exporter": "python",
   "pygments_lexer": "ipython3",
   "version": "3.6.7"
  }
 },
 "nbformat": 4,
 "nbformat_minor": 2
}
