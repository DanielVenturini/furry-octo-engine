{
 "cells": [
  {
   "cell_type": "markdown",
   "metadata": {},
   "source": [
    "# Carregando os dados de um eletrodo específico\n",
    "\n",
    "Primeiramente, se faz necessário carregar os dados de um dos eletrodos de algum arquivo. O arquivo escolhido será um dos que estão na pasta `small/`. Deste arquivo, será lido todas as linhas a procura de um eletrodo específico e salvo os seus 256 registros em um arquivo de mesmo nome no formato `.json`:"
   ]
  },
  {
   "cell_type": "code",
   "execution_count": 2,
   "metadata": {},
   "outputs": [],
   "source": [
    "folders = {\n",
    "    'small': 'dataset/small',\n",
    "    'large_train': 'dataset/large_train',\n",
    "    'large_test': 'dataset/large_test',\n",
    "    'full': 'dataset/full',\n",
    "}\n",
    "\n",
    "electrode = 'O2'\n",
    "fileName = '/a_1_co2a0000364/co2a0000364.rd.000'\n",
    "\n",
    "fileInput = open(folders['small'] + fileName)\n",
    "fileOutput = open(folders['small'] + fileName + '.json', 'w')\n",
    "\n",
    "fileOutput.write('[')\n",
    "\n",
    "lastCharacter = ','\n",
    "posOutput = 0\n",
    "for line in fileInput.readlines():\n",
    "    if line.startswith('#'):\n",
    "        continue\n",
    "\n",
    "    if posOutput == 255:\n",
    "        lastCharacter = ']'\n",
    "\n",
    "    line = line.split()\n",
    "    if line[1] == electrode:\n",
    "        fileOutput.write(line[3] + lastCharacter)\n",
    "        posOutput += 1\n",
    "\n",
    "fileOutput.close()"
   ]
  },
  {
   "cell_type": "code",
   "execution_count": null,
   "metadata": {},
   "outputs": [],
   "source": []
  }
 ],
 "metadata": {
  "kernelspec": {
   "display_name": "Python 3",
   "language": "python",
   "name": "python3"
  },
  "language_info": {
   "codemirror_mode": {
    "name": "ipython",
    "version": 3
   },
   "file_extension": ".py",
   "mimetype": "text/x-python",
   "name": "python",
   "nbconvert_exporter": "python",
   "pygments_lexer": "ipython3",
   "version": "3.6.7"
  }
 },
 "nbformat": 4,
 "nbformat_minor": 2
}
