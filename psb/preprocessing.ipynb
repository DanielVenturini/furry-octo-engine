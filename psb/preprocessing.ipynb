{
 "cells": [
  {
   "cell_type": "markdown",
   "metadata": {},
   "source": [
    "# PRÉ-PROCESSAMENTO\n",
    "Este arquivo dita o pré-processamento dos eletrodos. A idéia básica é:\n",
    "\n",
    " - recuperar o nome de cada sub-árquivo que está dentro da pasta `dataset/`.\n",
    " \n",
    " - abrir os arquivos e somar os valores de cada eletrodo em todos os arquivos.\n",
    "\n",
    " - normalizar os dados dividindo-os pela quantidade de vez que o eletrodo apareceu nos arquivos.\n",
    "\n",
    " - Porfím, salvar os dados em `.json` para consulta com mais eficiência e também em `.csv`, para utilizar no restante do projeto."
   ]
  },
  {
   "cell_type": "markdown",
   "metadata": {},
   "source": [
    "# Listando todos os arquivos nos sub-diretórios\n",
    "\n",
    "Para calcular a média de cada eletrodo em cada arquivo, é necessário recuperar o nome de cada arquivos nas sub-pastas.\n",
    "\n"
   ]
  },
  {
   "cell_type": "code",
   "execution_count": 1,
   "metadata": {},
   "outputs": [],
   "source": [
    "import os\n",
    "\n",
    "def get_sub_files(path_name, files=[]):\n",
    "\n",
    "    subpaths = os.listdir(path_name)\n",
    "\n",
    "    for path in subpaths:\n",
    "        full_name = path_name + path\n",
    "        if os.path.isdir(full_name):\n",
    "            get_sub_files(full_name + '/', files) # vai para a proxima subpasta\n",
    "        # tudo que for arquivo e não começar com '.' ou não for um README\n",
    "        # então salva o caminho deste arquivo\n",
    "        elif not path.startswith('.') and not path.__eq__('README') and not path.__contains__('.json'):\n",
    "            files.append(full_name)\n",
    "\n",
    "    return files\n",
    "\n",
    "all_files = get_sub_files('dataset/')"
   ]
  },
  {
   "cell_type": "markdown",
   "metadata": {},
   "source": [
    "# Carregando os dados dos eletrodos\n",
    "\n",
    "Com todos os arquivos listados, basta abrir cada um e salvar os valores de cada eletrodo. Ou seja, será somado todos os eletrodos de todos os arquivos. Assim, se o eletrodo `B7`, por exemplo, estiver em mais de um arquivo, os seus valores serão somados."
   ]
  },
  {
   "cell_type": "code",
   "execution_count": 2,
   "metadata": {},
   "outputs": [],
   "source": [
    "# soma a quantidade de vezes que um eletrodo aparece nos arquivos\n",
    "def electrodeSum(electrode):\n",
    "    global electrodeQtd\n",
    "\n",
    "    try:\n",
    "        electrodeQtd[electrode] += 1\n",
    "    except KeyError:\n",
    "        electrodeQtd[electrode] = 0\n",
    "        electrodeSum(electrode)\n",
    "\n",
    "# apenas soma o valor do eletrodo com os demais, por exemplo,\n",
    "# todos os eletrodos 'B7' de todos os arquivos serão somados\n",
    "def insert(output, electrode, pos, value):\n",
    "    try:\n",
    "        output[electrode][pos] += value\n",
    "        # só incrementa a quantidade quando terminar de recuperar todos os 255\n",
    "        if pos == 255:\n",
    "            electrodeSum(electrode)\n",
    "    except KeyError:\n",
    "        output[electrode] = [0]*256\n",
    "\n",
    "        insert(output, electrode, pos, value)\n",
    "\n",
    "# no geral, processa um determinado arquivo\n",
    "def process_file(output, file):\n",
    "\n",
    "    # para cada linha do arquivo\n",
    "    for line in file.readlines():\n",
    "        if line.startswith('#'):  #ignora as linhas iniciadas com #\n",
    "            continue\n",
    "\n",
    "        # 41 FP2 168 -4.720\n",
    "        line = line.split()\n",
    "\n",
    "        # recupera os valores da linha\n",
    "        electrode, pos, value = line[1:4]\n",
    "        insert(output, electrode, int(pos), float(value))\n",
    "\n",
    "def process_files(files, path, output={}):\n",
    "\n",
    "    # para todos os arquivos\n",
    "    for file in files:\n",
    "        if file.__contains__(path):\n",
    "            try:\n",
    "                process_file(output, open(file))\n",
    "            except:\n",
    "                print(file)\n",
    "\n",
    "    return output"
   ]
  },
  {
   "cell_type": "markdown",
   "metadata": {},
   "source": [
    "# Fazendo a média\n",
    "\n",
    "Agora resta dividir cada um dos valores somados pela quantidade de vezes que esse eletrodo apareceu nos arquivos"
   ]
  },
  {
   "cell_type": "code",
   "execution_count": 3,
   "metadata": {},
   "outputs": [],
   "source": [
    "# para cada um dos 256 valores do eletrodo,\n",
    "# divide-o pela quantidade de vez que ele apareceu\n",
    "def divide(electrodeList, qtd):\n",
    "    for i in range(0, len(electrodeList)):\n",
    "        electrodeList[i] /= qtd\n",
    "\n",
    "def media(electrodeQtd, output):\n",
    "    for electrode in list(electrodeQtd.keys()):\n",
    "        divide(output[electrode], electrodeQtd[electrode])\n",
    "\n",
    "# O problema estava no fato do Jupyter não encerrar a execução\n",
    "# então cada vez que executava novamente, o Jupyter utiliza os valores que já estavam na memória\n",
    "\n",
    "# Agora para os arquivos 'A' está funcionando\n",
    "# Não sei por que não está para os arquivos 'B'\n",
    "electrodeQtd = {}\n",
    "outputA = {}\n",
    "# é necessário guardar o valor de cada eletrodo, ou seja, quantas vezes ele aparece nos arquivos\n",
    "outputA = process_files(all_files, 'dataset/small/a_1_co2a0000364')\n",
    "media(electrodeQtd, outputA)\n",
    "\n",
    "#electrodeQtd = {}\n",
    "#outputB = {}\n",
    "#outputB = process_files(all_files, 'dataset/small/c_1_co2c0000337')\n",
    "#media(electrodeQtd, outputB)"
   ]
  },
  {
   "cell_type": "markdown",
   "metadata": {},
   "source": [
    "# Salvando os dados\n",
    "\n",
    "Com todos os dados dos eletrodos, bastas salvar esse objeto em `.json`."
   ]
  },
  {
   "cell_type": "code",
   "execution_count": 4,
   "metadata": {
    "scrolled": true
   },
   "outputs": [],
   "source": [
    "import json\n",
    "\n",
    "def saveJson(output, name):\n",
    "    # para o json é realmente muito fácil\n",
    "    fileOutput = open(name, 'w')\n",
    "    json.dump(output, fileOutput)\n",
    "    fileOutput.close()\n",
    "\n",
    "saveJson(outputA, 'dataset/small/a_1_co2a0000364.json')\n",
    "#saveJson(outputB, 'dataset/small/c_1_co2c0000337.json')\n",
    "\n",
    "def saveFile():\n",
    "    # para csv é mais complicado, pois os dados tem que estar em colunas e não em linhas\n",
    "    fileOutput = open('result_large_test.csv', 'w')\n",
    "\n",
    "    # recuperando todos os eletrodos e ordenando-os\n",
    "    electrodes = list(output.keys())\n",
    "    electrodes.sort()\n",
    "\n",
    "    # salvando o cabeçalho do arquivo\n",
    "    virgula = ','\n",
    "    for pos, electrode in enumerate(electrodes):\n",
    "        # se for o último elemento, então adiciona o '\\n' ao invés da ','\n",
    "        if pos == len(electrodes)-1:\n",
    "            virgula = '\\n'\n",
    "\n",
    "        fileOutput.write(electrode  + virgula)\n",
    "\n",
    "    # agora falta salvar os valores\n",
    "    for i in range(0, 255):\n",
    "        for pos, electrode in enumerate(electrodes):\n",
    "            if pos == len(electrodes)-1:\n",
    "                virgula = '\\n'\n",
    "            else:\n",
    "                virgula = ','\n",
    "\n",
    "            fileOutput.write(output[electrode][i].__str__() + virgula)\n",
    "\n",
    "    fileOutput.close()"
   ]
  }
 ],
 "metadata": {
  "kernelspec": {
   "display_name": "Python 3",
   "language": "python",
   "name": "python3"
  },
  "language_info": {
   "codemirror_mode": {
    "name": "ipython",
    "version": 3
   },
   "file_extension": ".py",
   "mimetype": "text/x-python",
   "name": "python",
   "nbconvert_exporter": "python",
   "pygments_lexer": "ipython3",
   "version": "3.6.7"
  }
 },
 "nbformat": 4,
 "nbformat_minor": 2
}
