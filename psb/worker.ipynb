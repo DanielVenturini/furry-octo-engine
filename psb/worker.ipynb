{
 "cells": [
  {
   "cell_type": "markdown",
   "metadata": {},
   "source": [
    "# Listando todos os arquivos nos sub-diretórios\n",
    "\n",
    "Para calcular a média de cada eletrodo em cada arquivo, é necessário recuperar o nome de cada arquivos nas sub-pastas.\n",
    "\n"
   ]
  },
  {
   "cell_type": "code",
   "execution_count": 44,
   "metadata": {},
   "outputs": [],
   "source": [
    "import os\n",
    "\n",
    "def get_sub_files(path_name, files=[]):\n",
    "\n",
    "    subpaths = os.listdir(path_name)\n",
    "\n",
    "    for path in subpaths:\n",
    "        full_name = path_name + path\n",
    "        if os.path.isdir(full_name):\n",
    "            get_sub_files(full_name + '/', files) # goes to next sub-level and concat with the current list of files\n",
    "        elif not path.startswith('.') and not path.__eq__('README'):\n",
    "            files.append(full_name)\n",
    "\n",
    "    return files\n",
    "\n",
    "all_files = get_sub_files('dataset/')"
   ]
  },
  {
   "cell_type": "markdown",
   "metadata": {},
   "source": [
    "# Carregando os dados dos eletrodos\n",
    "\n",
    "Com todos os arquivos listados, basta abrir cada um e salvar os valores de cada eletrodo. Se dois arquivos contêm os eletrodos, por exemplo, `P17`, os seus valores serão somados e calculados a média."
   ]
  },
  {
   "cell_type": "code",
   "execution_count": 48,
   "metadata": {},
   "outputs": [],
   "source": [
    "\n",
    "# apenas insere este valor\n",
    "def insert(output, electrode, pos, value):\n",
    "    try:\n",
    "        output[electrode][pos] += value\n",
    "    except KeyError:\n",
    "        output[electrode] = list(range(256))\n",
    "        insert(output, electrode, pos, value)\n",
    "\n",
    "def process_file(output, file):\n",
    "\n",
    "    for line in file.readlines():\n",
    "        if line.startswith('#'):\n",
    "            continue\n",
    "\n",
    "        # 41 FP2 168 -4.720\n",
    "        line = line.split()\n",
    "\n",
    "        electrode, pos, value = line[1:4]\n",
    "        insert(output, electrode, int(pos), float(value))\n",
    "\n",
    "def process_files(files, output={}):\n",
    "\n",
    "    files = files[::-1]\n",
    "    for file in files:\n",
    "        process_file(output, open(file))\n",
    "\n",
    "    return output\n",
    "\n",
    "# é necessário guardar o valor de cada eletrodo, ou seja, quantas vezes ele  aparece na pasta\n",
    "electrodeQtd = {}\n",
    "output = process_files(all_files)"
   ]
  },
  {
   "cell_type": "markdown",
   "metadata": {},
   "source": [
    "# Salvando os dados\n",
    "\n",
    "Com todos os dados dos eletrodos, bastas salvar esse objeto em `.json`."
   ]
  },
  {
   "cell_type": "code",
   "execution_count": 49,
   "metadata": {},
   "outputs": [],
   "source": [
    "import json\n",
    "\n",
    "fileOutput = open('result.json', 'w')\n",
    "json.dump(output, fileOutput)\n",
    "fileOutput.close()"
   ]
  },
  {
   "cell_type": "code",
   "execution_count": null,
   "metadata": {},
   "outputs": [],
   "source": []
  }
 ],
 "metadata": {
  "kernelspec": {
   "display_name": "Python 3",
   "language": "python",
   "name": "python3"
  },
  "language_info": {
   "codemirror_mode": {
    "name": "ipython",
    "version": 3
   },
   "file_extension": ".py",
   "mimetype": "text/x-python",
   "name": "python",
   "nbconvert_exporter": "python",
   "pygments_lexer": "ipython3",
   "version": "3.6.7"
  }
 },
 "nbformat": 4,
 "nbformat_minor": 2
}
