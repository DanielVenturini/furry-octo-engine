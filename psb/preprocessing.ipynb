{
 "cells": [
  {
   "cell_type": "markdown",
   "metadata": {},
   "source": [
    "# PRÉ-PROCESSAMENTO\n",
    "Este arquivo dita o pré-processamento dos eletrodos. A idéia básica é:\n",
    "\n",
    " - recuperar todos os arquivos de uma pasta dos `alcoolicos` e dos `controles` de `dataset/small`.\n",
    " \n",
    " - abrir os arquivos e somar os valores de cada eletrodo em todos os arquivos.\n",
    "\n",
    " - normalizar os dados dividindo-os pela quantidade de arquivos da pasta, pois um eletrodo aparece uma vez a cada arquivo.\n",
    "\n",
    " - então, salvar os dados em `.json` para consulta com mais eficiência.\n",
    "\n",
    " - porfim, gerar os gráficos para análise."
   ]
  },
  {
   "cell_type": "markdown",
   "metadata": {},
   "source": [
    "# Importando as bibliotecas necessárias para o código"
   ]
  },
  {
   "cell_type": "code",
   "execution_count": 2,
   "metadata": {},
   "outputs": [],
   "source": [
    "import os\n",
    "import mne\n",
    "import json\n",
    "import numpy as np\n",
    "import matplotlib.pyplot as plt\n",
    "from mne import set_eeg_reference as car"
   ]
  },
  {
   "cell_type": "markdown",
   "metadata": {},
   "source": [
    "# Recuperando os arquivos\n",
    "\n",
    "Recuperando os nomes e abrindo cada um dos arquivos da pasta selecionada. Então, cada arquivo será passado para a função para processar os eletrodos dos arquivos."
   ]
  },
  {
   "cell_type": "code",
   "execution_count": 3,
   "metadata": {},
   "outputs": [],
   "source": [
    "def getSumElectodes(pathName):\n",
    "    files = os.listdir(pathName)\n",
    "    qtdElectrodes = len(files)\n",
    "    resp = {}\n",
    "\n",
    "    for file in files:\n",
    "        processFile(open(pathName + file), resp, qtdElectrodes)\n",
    "\n",
    "    return resp"
   ]
  },
  {
   "cell_type": "markdown",
   "metadata": {},
   "source": [
    "# Recuperando os eletrodos\n",
    "\n",
    "Abrindo o arquivo e processando cada uma das linhas. Estas, são quebradas para recuperar os valores necessários: `eletrodo`, `posição` e `valor`. Estes valores são adicionados em um objeto e somados."
   ]
  },
  {
   "cell_type": "code",
   "execution_count": 4,
   "metadata": {},
   "outputs": [],
   "source": [
    "def processFile(file, resp, qtdElectrodes):\n",
    "    # para cada linha do arquivo\n",
    "    for line in file.readlines():\n",
    "        if line.startswith('#'):  #ignora as linhas iniciadas com #\n",
    "            continue\n",
    "\n",
    "        # 41 FP2 168 -4.720\n",
    "        line = line.split()\n",
    "\n",
    "        # recupera os valores da linha\n",
    "        electrode, pos, value = line[1:4]\n",
    "        insert(resp, electrode, int(pos), float(value), qtdElectrodes)"
   ]
  },
  {
   "cell_type": "markdown",
   "metadata": {},
   "source": [
    "# Fazendo a média\n",
    "\n",
    "Na posição específica de um eletrodo específico é somado com o valor atual dividido pela quantidade de arquivos na pasta. Assim a média é feita."
   ]
  },
  {
   "cell_type": "code",
   "execution_count": 5,
   "metadata": {},
   "outputs": [],
   "source": [
    "def insert(resp, electrode, pos, value, qtdElectrodes):\n",
    "    try:\n",
    "        resp[electrode][pos] += (value*(1/qtdElectrodes))\n",
    "    except KeyError:\n",
    "        resp[electrode] = [0]*256\n",
    "\n",
    "        insert(resp, electrode, pos, value, qtdElectrodes)"
   ]
  },
  {
   "cell_type": "markdown",
   "metadata": {},
   "source": [
    "# Salvando os dados\n",
    "\n",
    "Com todos os dados dos eletrodos, bastas salvar esse objeto em `.json`. Salvar em um `.json` é apenas para visualizar algo que seja necessário."
   ]
  },
  {
   "cell_type": "code",
   "execution_count": 6,
   "metadata": {
    "scrolled": true
   },
   "outputs": [],
   "source": [
    "def saveJson(output, name):\n",
    "    # para o json é realmente muito fácil\n",
    "    fileOutput = open(name, 'w')\n",
    "    json.dump(output, fileOutput)\n",
    "    fileOutput.close()"
   ]
  },
  {
   "cell_type": "markdown",
   "metadata": {},
   "source": [
    "# Funções para plotar os dados\n",
    "\n",
    "Essas são as funções usadas para as visualizações:\n",
    " - temporal\n",
    " - frequencia\n",
    " - car"
   ]
  },
  {
   "cell_type": "code",
   "execution_count": 7,
   "metadata": {},
   "outputs": [],
   "source": [
    "def viewTemporal(raw):\n",
    "    # Neste primeiro gráfico mostramos o sinal de um eletrodo no domínio do tempo\n",
    "    plt.plot(np.linspace(0, 1, 256), raw.get_data()[0])\n",
    "    plt.xlabel('tempo (s)')\n",
    "    plt.ylabel('Dados EEG (mV/cm²)')\n",
    "\n",
    "def viewFrequencia(raw):\n",
    "    raw.plot_psd()\n",
    "\n",
    "def applyCar(raw):\n",
    "    chs_P = ['CP5', 'C3', 'CP6', 'C4']\n",
    "    inst, data = car(raw, ref_channels=chs_P)\n",
    "    #print(data.shape)\n",
    "    #print(inst)\n",
    "    #viewFrequencia(inst)\n",
    "    return inst"
   ]
  },
  {
   "cell_type": "markdown",
   "metadata": {},
   "source": [
    "# Plotando os gráficos\n",
    "\n",
    "Primeiramente os dados são adaptados para serem plotados. Através do gráfico, pode ser visualizado os eletrodos que não estão no padrão. Com isto, eles podem ser removidos usando o `car` e o gráfico plotado novamente."
   ]
  },
  {
   "cell_type": "code",
   "execution_count": 14,
   "metadata": {},
   "outputs": [],
   "source": [
    "def plotaGrafico(electrodes):\n",
    "    dataInput = []\n",
    "    ch_types = ['eeg'] * 64\n",
    "    ch_names = list(electrodes.keys())\n",
    "\n",
    "    for electrode in ch_names:\n",
    "        dataInput.append(electrodes[electrode])\n",
    "\n",
    "    info = mne.create_info(ch_names=ch_names, sfreq=256, ch_types=ch_types)\n",
    "    raw = mne.io.RawArray(dataInput, info)\n",
    "\n",
    "    # São removidos aqui alguns canais que não parecem ser informações de eletrodos EEG\n",
    "    raw.drop_channels(['X', 'nd', 'Y'])\n",
    "\n",
    "    # Aplicamos a montagem do padrão 10-20 para todos os eletrodos\n",
    "    montage = mne.channels.read_montage('standard_1020')\n",
    "    raw.set_montage(montage)\n",
    "\n",
    "    # Aqui mostramos todos os 61 eletrodos que representam dados EEG\n",
    "    #viewFrequencia(raw)\n",
    "    #viewTemporal(raw)\n",
    "    raw2 = applyCar(raw)\n",
    "    #viewFrequencia(raw2)\n",
    "    return raw2"
   ]
  },
  {
   "cell_type": "markdown",
   "metadata": {},
   "source": [
    "# Executando\n",
    "\n",
    "É executado para os valores dos `alcoolicos` e após para os valores do `control`."
   ]
  },
  {
   "cell_type": "code",
   "execution_count": 15,
   "metadata": {},
   "outputs": [
    {
     "name": "stdout",
     "output_type": "stream",
     "text": [
      "Creating RawArray with float64 data, n_channels=64, n_times=256\n",
      "    Range : 0 ... 255 =      0.000 ...     0.996 secs\n",
      "Ready.\n",
      "Applying a custom EEG reference.\n"
     ]
    },
    {
     "data": {
      "text/plain": [
       "<RawArray  |  None, n_channels x n_times : 61 x 256 (1.0 sec), ~277 kB, data loaded>"
      ]
     },
     "execution_count": 15,
     "metadata": {},
     "output_type": "execute_result"
    }
   ],
   "source": [
    "'''\n",
    "pathName = 'a_1_co2a0000364'\n",
    "alcool = getSumElectodes('dataset/small/{}/'.format(pathName))\n",
    "saveJson(alcool, 'dataset/small/{}.json'.format(pathName))\n",
    "plotaGrafico(alcool)\n",
    "'''\n",
    "pathName = 'c_1_co2c0000337'\n",
    "control = getSumElectodes('dataset/small/{}/'.format(pathName))\n",
    "saveJson(control, 'dataset/small/{}.json'.format(pathName))\n",
    "plotaGrafico(control)"
   ]
  },
  {
   "cell_type": "code",
   "execution_count": null,
   "metadata": {},
   "outputs": [],
   "source": []
  }
 ],
 "metadata": {
  "kernelspec": {
   "display_name": "Python 3",
   "language": "python",
   "name": "python3"
  },
  "language_info": {
   "codemirror_mode": {
    "name": "ipython",
    "version": 3
   },
   "file_extension": ".py",
   "mimetype": "text/x-python",
   "name": "python",
   "nbconvert_exporter": "python",
   "pygments_lexer": "ipython3",
   "version": "3.6.7"
  }
 },
 "nbformat": 4,
 "nbformat_minor": 2
}
