{
 "cells": [
  {
   "cell_type": "markdown",
   "metadata": {},
   "source": [
    "# Listando todos os arquivos nos sub-diretórios\n",
    "\n",
    "Para calcular a média de cada eletrodo em cada arquivo, é necessário recuperar o nome de cada arquivos nas sub-pastas.\n",
    "\n"
   ]
  },
  {
   "cell_type": "code",
   "execution_count": 44,
   "metadata": {},
   "outputs": [],
   "source": [
    "import os\n",
    "\n",
    "def get_sub_files(path_name, files=[]):\n",
    "\n",
    "    subpaths = os.listdir(path_name)\n",
    "\n",
    "    for path in subpaths:\n",
    "        full_name = path_name + path\n",
    "        if os.path.isdir(full_name):\n",
    "            get_sub_files(full_name + '/', files) # goes to next sub-level and concat with the current list of files\n",
    "        elif not path.startswith('.') and not path.__eq__('README'):\n",
    "            files.append(full_name)\n",
    "\n",
    "    return files\n",
    "\n",
    "all_files = get_sub_files('dataset/')"
   ]
  },
  {
   "cell_type": "markdown",
   "metadata": {},
   "source": [
    "# Carregando os dados dos eletrodos\n",
    "\n",
    "Com todos os arquivos listados, basta abrir cada um e salvar os valores de cada eletrodo. Se dois arquivos contêm os eletrodos, por exemplo, `P17`, os seus valores serão somados e calculados a média."
   ]
  },
  {
   "cell_type": "code",
   "execution_count": null,
   "metadata": {},
   "outputs": [
    {
     "name": "stdout",
     "output_type": "stream",
     "text": [
      "small\n",
      "large_train\n",
      "large_test\n",
      "full\n"
     ]
    }
   ],
   "source": [
    "# apenas retorna de qual pasta esse arquivo é\n",
    "def pathName(fileName):\n",
    "    if fileName.__contains__('small'): return 'small'\n",
    "    if fileName.__contains__('full'): return 'full'\n",
    "    if fileName.__contains__('large_train'): return 'large_train'\n",
    "    if fileName.__contains__('large_test'): return 'large_test'\n",
    "    return 'none'\n",
    "\n",
    "# se a pasta ainda não tiver nenhum mapeamento, cria\n",
    "def verifyPath(output, path):\n",
    "    try:\n",
    "        output[path]\n",
    "    except KeyError:\n",
    "        output[path] = {}\n",
    "\n",
    "# dada o mapeamento da pasta, o eletrodo e o valor,\n",
    "# apenas insere este valor\n",
    "def insert(outputPath, electrode, pos, value):\n",
    "    try:\n",
    "        outputPath[electrode][pos] += value\n",
    "    except KeyError:\n",
    "        outputPath[electrode] = list(range(256))\n",
    "        insert(outputPath, electrode, pos, value)\n",
    "    #try:\n",
    "    #    output[line[1]][int(line[2])] += float(line[3])\n",
    "    #except KeyError:\n",
    "    #    output[line[1]] = list(range(256))\n",
    "    #    output[line[1]][int(line[2])] = float(line[3])\n",
    "\n",
    "def process_file(output, file, path):\n",
    "\n",
    "    verifyPath(output, path)\n",
    "\n",
    "    for line in file.readlines():\n",
    "        if line.startswith('#'):\n",
    "            continue\n",
    "\n",
    "        # 41 FP2 168 -4.720\n",
    "        line = line.split()\n",
    "\n",
    "        try:\n",
    "            electrode, pos, value = line[1:4]\n",
    "            insert(output[path], electrode, int(pos), float(value))\n",
    "        except:\n",
    "            print(\"File: \", file)\n",
    "            print(\"Line: \", line)\n",
    "            print(\"Path: \", path)\n",
    "\n",
    "def process_files(files, output={}):\n",
    "\n",
    "    pastPath = ''\n",
    "    files = files[::-1]\n",
    "    for file in files:\n",
    "        currentPath = pathName(file)\n",
    "\n",
    "        if not currentPath.__eq__(pastPath):\n",
    "            print(currentPath)\n",
    "            pastPath = currentPath\n",
    "\n",
    "        process_file(output, open(file), currentPath)\n",
    "\n",
    "    return output\n",
    "\n",
    "output = process_files(all_files)"
   ]
  },
  {
   "cell_type": "markdown",
   "metadata": {},
   "source": [
    "# Salvando os dados\n",
    "\n",
    "Com todos os dados dos eletrodos, bastas salvar esse objeto em `.json`."
   ]
  },
  {
   "cell_type": "code",
   "execution_count": 33,
   "metadata": {},
   "outputs": [],
   "source": [
    "import json\n",
    "\n",
    "fileOutput = open('result.json', 'w')\n",
    "json.dump(output, fileOutput)\n",
    "fileOutput.close()"
   ]
  }
 ],
 "metadata": {
  "kernelspec": {
   "display_name": "Python 3",
   "language": "python",
   "name": "python3"
  },
  "language_info": {
   "codemirror_mode": {
    "name": "ipython",
    "version": 3
   },
   "file_extension": ".py",
   "mimetype": "text/x-python",
   "name": "python",
   "nbconvert_exporter": "python",
   "pygments_lexer": "ipython3",
   "version": "3.6.7"
  }
 },
 "nbformat": 4,
 "nbformat_minor": 2
}
